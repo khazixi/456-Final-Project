{
 "cells": [
  {
   "cell_type": "code",
   "execution_count": 4,
   "id": "5a2b6257",
   "metadata": {},
   "outputs": [],
   "source": [
    "class Location:\n",
    "    def __init__(self, infection_rate):\n",
    "        self.infection_rate = infection_rate\n",
    "\n",
    "class Person:\n",
    "    def __init__(self, location, infected=False):\n",
    "        self.location = location\n",
    "        self.recovery_prob = 0.8\n",
    "        self.infected = infected\n",
    "\n",
    "class Result:\n",
    "    def __init__(self, day, location, num_susceptible, num_infected):\n",
    "        self.day = day\n",
    "        self.location = location\n",
    "        self.num_susceptible = num_susceptible\n",
    "        self.num_infected = num_infected\n",
    "\n",
    "def simulate(people, locations, days):\n",
    "    pass\n",
    "\n",
    "# List of results -> Plot or list of plots\n",
    "def plot_results(results):\n",
    "    pass"
   ]
  },
  {
   "cell_type": "code",
   "execution_count": 5,
   "id": "bf250d72",
   "metadata": {},
   "outputs": [],
   "source": [
    "locations = [Location(0.1)]\n",
    "people = [Person(locations[0], True), Person(locations[0])]\n",
    "results = simulate(people, locations, 10)\n",
    "plot_results(results)"
   ]
  }
 ],
 "metadata": {
  "kernelspec": {
   "display_name": "Python 3 (ipykernel)",
   "language": "python",
   "name": "python3"
  },
  "language_info": {
   "codemirror_mode": {
    "name": "ipython",
    "version": 3
   },
   "file_extension": ".py",
   "mimetype": "text/x-python",
   "name": "python",
   "nbconvert_exporter": "python",
   "pygments_lexer": "ipython3",
   "version": "3.12.3"
  }
 },
 "nbformat": 4,
 "nbformat_minor": 5
}
