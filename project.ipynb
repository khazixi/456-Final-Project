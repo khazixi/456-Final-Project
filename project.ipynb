{
 "cells": [
  {
   "cell_type": "code",
   "execution_count": 31,
   "id": "5a2b6257",
   "metadata": {},
   "outputs": [],
   "source": [
    "import matplotlib.pyplot as plt\n",
    "\n",
    "class Location:\n",
    "    def __init__(self, infection_rate):\n",
    "        self.infection_rate = infection_rate\n",
    "\n",
    "class Person:\n",
    "    def __init__(self, location, infected=False):\n",
    "        self.location = location\n",
    "        self.recovery_prob = 0.8\n",
    "        self.infected = infected\n",
    "\n",
    "class Result:\n",
    "    def __init__(self, day, location, num_susceptible, num_infected):\n",
    "        self.day = day\n",
    "        self.location = location\n",
    "        self.num_susceptible = num_susceptible\n",
    "        self.num_infected = num_infected\n",
    "        \n",
    "def count_people(people, location, infected):\n",
    "    return len(list(filter(lambda person: person.location == location and person.infected == infected, people)))\n",
    "\n",
    "def count_susceptible(people, location):\n",
    "    return count_people(people, location, False)\n",
    "\n",
    "def count_infected(people, location):\n",
    "    return count_people(people, location, True)\n",
    "\n",
    "def simulate(people, locations, num_days):\n",
    "    results = []\n",
    "    for day in range(num_days):\n",
    "        for location in locations:\n",
    "            people_in_location = list(filter(lambda person: person.location == location), people)\n",
    "            # TODO: infect people\n",
    "            num_susceptible = count_susceptible(people, location)\n",
    "            num_infected = count_infected(people, location)\n",
    "            result = Result(day, location, num_susceptible, num_infected)\n",
    "            results.append(result)\n",
    "    return results\n",
    "\n",
    "# List of results -> Plot or list of plots\n",
    "def plot_results(results, num_days):\n",
    "    infected_counts = []\n",
    "    for day in range(num_days):\n",
    "        num_infected = sum(result.num_infected for result in results if result.day == day)\n",
    "        infected_counts.append(num_infected)\n",
    "    fig, axes = plt.subplots()\n",
    "    axes.plot(infected_counts)"
   ]
  },
  {
   "cell_type": "code",
   "execution_count": 34,
   "id": "bf250d72",
   "metadata": {},
   "outputs": [
    {
     "data": {
      "image/png": "[encoded data removed]",
      "text/plain": [
       "<Figure size 640x480 with 1 Axes>"
      ]
     },
     "metadata": {},
     "output_type": "display_data"
    }
   ],
   "source": [
    "locations = [Location(0.1)]\n",
    "people = [Person(locations[0], True), Person(locations[0])]\n",
    "num_days = 10\n",
    "results = simulate(people, locations, num_days)\n",
    "plot_results(results, num_days)"
   ]
  }
 ],
 "metadata": {
  "kernelspec": {
   "display_name": "Python 3 (ipykernel)",
   "language": "python",
   "name": "python3"
  },
  "language_info": {
   "codemirror_mode": {
    "name": "ipython",
    "version": 3
   },
   "file_extension": ".py",
   "mimetype": "text/x-python",
   "name": "python",
   "nbconvert_exporter": "python",
   "pygments_lexer": "ipython3",
   "version": "3.12.3"
  }
 },
 "nbformat": 4,
 "nbformat_minor": 5
}
