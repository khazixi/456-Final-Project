{
 "cells": [
  {
   "cell_type": "code",
   "execution_count": 20,
   "id": "5a2b6257",
   "metadata": {},
   "outputs": [],
   "source": [
    "import random\n",
    "import matplotlib.pyplot as plt\n",
    "\n",
    "S = 0\n",
    "I = 1\n",
    "R = 2\n",
    "\n",
    "# TODOS: SCHEDULE\n",
    "# Location indexed by time probably an array\n",
    "# Indexed by time: Location ID: Int | None\n",
    "\n",
    "# When sumulating you check location and time match\n",
    "\n",
    "# Locations should be randomly generated and have ID's\n",
    "\n",
    "# Major based sheduling?\n",
    "\n",
    "# Should we model parties?\n",
    "\n",
    "# THESE LATER\n",
    "VACCINATED = 3\n",
    "DEAD = 4\n",
    "\n",
    "class Location:\n",
    "    def __init__(self, infection_rate):\n",
    "        self.infection_rate = infection_rate\n",
    "\n",
    "class Person:\n",
    "    def __init__(self, schedule, state=S):\n",
    "        self.state = state\n",
    "        self.recovery_prob = 0.1\n",
    "        self.schedule = schedule\n",
    "\n",
    "def pairs(lst):\n",
    "    for i, item1 in enumerate(lst):\n",
    "        for item2 in lst[i+1:]:\n",
    "            yield item1, item2\n",
    "\n",
    "def infection_pairs(people, time):\n",
    "    for person1, person2 in pairs(people):\n",
    "        if person1.schedule[time] == person2.schedule[time]:\n",
    "            if person1.state == I and person2.state == S:\n",
    "                yield person1, person2\n",
    "            elif person2.state == I and person1.state == S:\n",
    "                yield person2, person1\n",
    "                \n",
    "def find_new_infections(people, locations, time):\n",
    "    new_infections = []\n",
    "    for person1, person2 in infection_pairs(people, time):\n",
    "        infection_location = locations[person1.schedule[time]]\n",
    "        if random.random() < infection_location.infection_rate and person2 not in new_infections:\n",
    "            new_infections.append(person2)\n",
    "    return new_infections\n",
    "\n",
    "def count_state(people, state):\n",
    "    return sum(1 for person in people if person.state == state)\n",
    "\n",
    "def gen_locations(n):\n",
    "    out = []\n",
    "\n",
    "    for i in range(n):\n",
    "        # Do we want this to be uniformly sampled?\n",
    "        infection_probability = random.uniform(1e-2, 3e-2)\n",
    "\n",
    "        loc = Location(infection_probability)\n",
    "\n",
    "        out.append(loc)\n",
    "\n",
    "    return out\n",
    "\n",
    "\"\"\"\n",
    "n - Number of items the locations array\n",
    "\"\"\"\n",
    "def gen_schedule(n):\n",
    "    out = [None for i in range(24)]\n",
    "\n",
    "    # Time slice for bedtime [0:8]\n",
    "    # Time slice for classes out[8:18] \n",
    "    packed_index = random.randrange(2, 11)\n",
    "    \n",
    "    samples = random.sample(range(n), k=packed_index)\n",
    "\n",
    "    indices = random.sample(range(8,18), k=packed_index)\n",
    "\n",
    "    for (idx, sample) in zip(indices, samples):\n",
    "        out[idx] = sample\n",
    "\n",
    "    # Potential high risk activity (parties and gatherings and homework?) out[18:]\n",
    "\n",
    "    return out\n",
    "    \n",
    "        \n",
    "# REFACTOR THIS\n",
    "def simulate(people, locations, num_days):\n",
    "    infected = [count_state(people, I)]\n",
    "    recovered = [count_state(people, R)]\n",
    "    susceptible = [count_state(people, S)]\n",
    "    for day in range(num_days):\n",
    "        # Infection\n",
    "        for person in find_new_infections(people):\n",
    "            person.state = I\n",
    "        # Recovery\n",
    "        for person in people:\n",
    "            if person.state == I and random.random() < person.recovery_prob:\n",
    "                person.state = R\n",
    "        # Track number of infected people\n",
    "        infected.append(count_state(people, I))\n",
    "        recovered.append(count_state(people, R))\n",
    "        susceptible.append(count_state(people, S))\n",
    "\n",
    "    return infected, recovered, susceptible\n"
   ]
  },
  {
   "cell_type": "code",
   "execution_count": 24,
   "id": "bf250d72",
   "metadata": {},
   "outputs": [
    {
     "data": {
      "text/plain": [
       "Text(0.5, 0, 'Days')"
      ]
     },
     "execution_count": 24,
     "metadata": {},
     "output_type": "execute_result"
    },
    {
     "data": {
      "image/png": "[encoded data removed]",
      "text/plain": [
       "<Figure size 640x480 with 1 Axes>"
      ]
     },
     "metadata": {},
     "output_type": "display_data"
    }
   ],
   "source": [
    "# locations = [Location(0.0135), Location(0.0134), Location(0.0132), Location(0.0136), Location(0.021)]\n",
    "locations = gen_locations(500)\n",
    "\n",
    "# people = [Person(locations[0], I), Person(locations[0])]\n",
    "\n",
    "# In our initial model people got infected really fast but recovered really fast\n",
    "ppl = []\n",
    "for i in range(400):\n",
    "    loc = i % 5\n",
    "    status = random.choices([I, S], weights=[1,7])\n",
    "    schedules = gen_schedule(500)\n",
    "    person = Person(schedules, status[0])\n",
    "    ppl.append(person)\n",
    "    \n",
    "\n",
    "num_days = 50\n",
    "i, r, s = simulate(ppl, locations, num_days)\n",
    "\n",
    "fig, ax = plt.subplots()\n",
    "ax.plot(i)\n",
    "ax.plot(r)\n",
    "ax.plot(s)\n",
    "\n",
    "ax.legend([\"Infected\", \"Recovery\", \"Susceptible\"])\n",
    "ax.set_ylabel(\"People\")\n",
    "ax.set_xlabel(\"Days\")"
   ]
  },
  {
   "cell_type": "code",
   "execution_count": 23,
   "id": "51df3867",
   "metadata": {},
   "outputs": [
    {
     "name": "stdout",
     "output_type": "stream",
     "text": [
      "[338, 208, 128, None, None, None, None, 292, None, None]\n"
     ]
    }
   ],
   "source": [
    "    print(gen_schedule(500)[8:18])"
   ]
  },
  {
   "cell_type": "code",
   "execution_count": null,
   "id": "2c8f8e46-2f49-4aa2-acc7-0cd684e02895",
   "metadata": {},
   "outputs": [],
   "source": []
  }
 ],
 "metadata": {
  "kernelspec": {
   "display_name": "Python 3 (ipykernel)",
   "language": "python",
   "name": "python3"
  },
  "language_info": {
   "codemirror_mode": {
    "name": "ipython",
    "version": 3
   },
   "file_extension": ".py",
   "mimetype": "text/x-python",
   "name": "python",
   "nbconvert_exporter": "python",
   "pygments_lexer": "ipython3",
   "version": "3.10.2"
  }
 },
 "nbformat": 4,
 "nbformat_minor": 5
}
